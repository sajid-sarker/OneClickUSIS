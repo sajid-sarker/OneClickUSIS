{
  "nbformat": 4,
  "nbformat_minor": 0,
  "metadata": {
    "colab": {
      "provenance": []
    },
    "kernelspec": {
      "name": "python3",
      "display_name": "Python 3"
    },
    "language_info": {
      "name": "python"
    }
  },
  "cells": [
    {
      "cell_type": "markdown",
      "source": [
        "v2"
      ],
      "metadata": {
        "id": "UHt9SlvRAq20"
      }
    },
    {
      "cell_type": "code",
      "source": [
        "from bs4 import BeautifulSoup\n",
        "import requests\n",
        "import time\n",
        "from IPython.display import clear_output\n",
        "\n",
        "def read_courses():\n",
        "  f1 = open(\"course_input.txt\",'r')\n",
        "  courses = {}\n",
        "  for i in f1.readlines():\n",
        "    target_course, target_section = i.strip('\\n').split()\n",
        "    courses[target_course] = target_section\n",
        "  f1.close()\n",
        "  return courses\n",
        "\n",
        "def get_table_data(url):\n",
        "  #Scraping the website HTML\n",
        "  page = requests.get(url)\n",
        "  soup = BeautifulSoup(page.content, \"html.parser\")\n",
        "  table = soup.find(\"table\", attrs={\"id\" :\"customers\"})\n",
        "\n",
        "  # Headers:\n",
        "    # *nbsp*\n",
        "    # Course code\n",
        "    # Program\n",
        "    # Faculty\n",
        "    # Credit\n",
        "    # Section\n",
        "    # Day, Time, Room\n",
        "    # Total Seat\n",
        "    # Seat Booked\n",
        "    # Seat Remaining\n",
        "\n",
        "  tr = table.find_all(\"tr\")\n",
        "  return tr\n",
        "\n",
        "def check_seat_availability(courses, table_data):\n",
        "  available = []\n",
        "  for row in table_data:\n",
        "    td = row.find_all(\"td\")\n",
        "    #Checking course, section, and remaining seats\n",
        "    for course in courses.keys():\n",
        "      if td[1].text == course and td[5].text == courses[course] and int(td[9].text) > 0:\n",
        "        data = [i.text.strip() for i in td]\n",
        "        available.append(data)\n",
        "\n",
        "  return available\n",
        "\n",
        "def display_results(available, headers):\n",
        "  clear_output(wait=False)\n",
        "  if available:\n",
        "    print('Available Courses:')\n",
        "    for course in available:\n",
        "      print(\"#===================================#\")\n",
        "      print(\"Current Time:\", time.strftime(\"%H:%M:%S\", time.localtime()), \"(UTC)\")\n",
        "      print(headers[0] + ':', course[1])\n",
        "      print(headers[1] + ':', course[5])\n",
        "      print(headers[2] + ':', course[9])\n",
        "      print(\"#===================================#\")\n",
        "  else:\n",
        "    print(\"No seats currently available...\")\n",
        "\n",
        "def periodic_check(interval, url, courses):\n",
        "  headers = ['Course', 'Section', 'Available Seats']\n",
        "  while True:\n",
        "    table_data = get_table_data(url)\n",
        "    available = check_seat_availability(courses, table_data)\n",
        "    display_results(available, headers)\n",
        "    time.sleep(90)\n",
        "\n",
        "def main():\n",
        "  url = \"https://usis.bracu.ac.bd/academia/admissionRequirement/getAvailableSeatStatus\"\n",
        "  courses = read_courses()\n",
        "  interval = 90 #seconds\n",
        "  periodic_check(interval, url, courses)\n",
        "\n",
        "main()"
      ],
      "metadata": {
        "colab": {
          "base_uri": "https://localhost:8080/"
        },
        "id": "N1iz5fVJ_jUR",
        "outputId": "15c40de4-8058-4858-99f5-7716c22d4c5b"
      },
      "execution_count": null,
      "outputs": [
        {
          "output_type": "stream",
          "name": "stdout",
          "text": [
            "Available Courses:\n",
            "#===================================#\n",
            "Current Time: 06:41:27 (UTC)\n",
            "Course: CSE251\n",
            "Section: 05\n",
            "Available Seats: 1\n",
            "#===================================#\n"
          ]
        }
      ]
    }
  ]
}